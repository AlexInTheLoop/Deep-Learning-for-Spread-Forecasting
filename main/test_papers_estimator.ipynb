{
 "cells": [
  {
   "cell_type": "code",
   "execution_count": 1,
   "id": "35e5cf47",
   "metadata": {},
   "outputs": [
    {
     "name": "stdout",
     "output_type": "stream",
     "text": [
      "⚠️ Klines déjà existant : c:\\Users\\theod\\OneDrive\\Documents\\GitHub\\Deep-Learning-for-Spread-Forecasting\\data\\raw data\\XRPUSDT-1m-2023-09.parquet\n",
      "⚠️ BookTicker déjà existant : c:\\Users\\theod\\OneDrive\\Documents\\GitHub\\Deep-Learning-for-Spread-Forecasting\\data\\raw data\\XRPUSDT-bookTicker-2023-09.parquet\n",
      "⚠️ Klines déjà existant : c:\\Users\\theod\\OneDrive\\Documents\\GitHub\\Deep-Learning-for-Spread-Forecasting\\data\\raw data\\SOLUSDT-1m-2023-10.parquet\n",
      "⚠️ BookTicker déjà existant : c:\\Users\\theod\\OneDrive\\Documents\\GitHub\\Deep-Learning-for-Spread-Forecasting\\data\\raw data\\SOLUSDT-bookTicker-2023-10.parquet\n"
     ]
    },
    {
     "data": {
      "application/vnd.microsoft.datawrangler.viewer.v0+json": {
       "columns": [
        {
         "name": "('symbol', 'year', 'month', 'day')",
         "rawType": "object",
         "type": "unknown"
        },
        {
         "name": "S1",
         "rawType": "float64",
         "type": "float"
        },
        {
         "name": "S2",
         "rawType": "float64",
         "type": "float"
        },
        {
         "name": "S3",
         "rawType": "float64",
         "type": "float"
        },
        {
         "name": "S4",
         "rawType": "float64",
         "type": "float"
        },
        {
         "name": "Roll Spread",
         "rawType": "float64",
         "type": "float"
        },
        {
         "name": "CS Spread",
         "rawType": "float64",
         "type": "float"
        },
        {
         "name": "AGK1",
         "rawType": "float64",
         "type": "float"
        },
        {
         "name": "AGK2",
         "rawType": "float64",
         "type": "float"
        },
        {
         "name": "AR Spread",
         "rawType": "float64",
         "type": "float"
        }
       ],
       "ref": "5eda611e-c359-479a-ac58-f283df734d35",
       "rows": [
        [
         "('SOLUSDT', 2023, 9, 1)",
         "0.0006799548178945225",
         "0.000833045566908782",
         "0.0005994804757013188",
         "0.00012390903072566708",
         "0.0005737820007326048",
         "0.0002411147325864613",
         "0.0005965840311085394",
         "0.0",
         "0.00018536165842632455"
        ],
        [
         "('SOLUSDT', 2023, 9, 2)",
         "0.0003717663152486614",
         "0.0002092737813245941",
         "0.0005049331108330042",
         "7.870720767371863e-07",
         "0.00033133367420483314",
         "0.00015360652478985462",
         "0.00034802128261368973",
         "0.0",
         "0.0"
        ],
        [
         "('SOLUSDT', 2023, 9, 3)",
         "0.00015990359682642617",
         "0.0",
         "0.00022357814169063863",
         "1.0184375353376064e-05",
         "0.0002080013155173101",
         "0.0001266186307945772",
         "0.00021976056756931657",
         "0.0",
         "0.0"
        ],
        [
         "('SOLUSDT', 2023, 9, 4)",
         "0.0002481568594260077",
         "0.0",
         "0.001591691656673016",
         "0.0002483024118622594",
         "0.0002730965892889497",
         "0.0001895844360955964",
         "0.00028030384592496335",
         "0.0",
         "0.0"
        ],
        [
         "('SOLUSDT', 2023, 9, 5)",
         "0.0003212315092376802",
         "0.0",
         "0.0022360311469815115",
         "0.00012781178913279977",
         "0.0",
         "0.0002830930633311685",
         "0.0",
         "0.0",
         "0.0"
        ]
       ],
       "shape": {
        "columns": 9,
        "rows": 5
       }
      },
      "text/html": [
       "<div>\n",
       "<style scoped>\n",
       "    .dataframe tbody tr th:only-of-type {\n",
       "        vertical-align: middle;\n",
       "    }\n",
       "\n",
       "    .dataframe tbody tr th {\n",
       "        vertical-align: top;\n",
       "    }\n",
       "\n",
       "    .dataframe thead th {\n",
       "        text-align: right;\n",
       "    }\n",
       "</style>\n",
       "<table border=\"1\" class=\"dataframe\">\n",
       "  <thead>\n",
       "    <tr style=\"text-align: right;\">\n",
       "      <th></th>\n",
       "      <th></th>\n",
       "      <th></th>\n",
       "      <th></th>\n",
       "      <th>S1</th>\n",
       "      <th>S2</th>\n",
       "      <th>S3</th>\n",
       "      <th>S4</th>\n",
       "      <th>Roll Spread</th>\n",
       "      <th>CS Spread</th>\n",
       "      <th>AGK1</th>\n",
       "      <th>AGK2</th>\n",
       "      <th>AR Spread</th>\n",
       "    </tr>\n",
       "    <tr>\n",
       "      <th>symbol</th>\n",
       "      <th>year</th>\n",
       "      <th>month</th>\n",
       "      <th>day</th>\n",
       "      <th></th>\n",
       "      <th></th>\n",
       "      <th></th>\n",
       "      <th></th>\n",
       "      <th></th>\n",
       "      <th></th>\n",
       "      <th></th>\n",
       "      <th></th>\n",
       "      <th></th>\n",
       "    </tr>\n",
       "  </thead>\n",
       "  <tbody>\n",
       "    <tr>\n",
       "      <th rowspan=\"5\" valign=\"top\">SOLUSDT</th>\n",
       "      <th rowspan=\"5\" valign=\"top\">2023</th>\n",
       "      <th rowspan=\"5\" valign=\"top\">9</th>\n",
       "      <th>1</th>\n",
       "      <td>0.000680</td>\n",
       "      <td>0.000833</td>\n",
       "      <td>0.000599</td>\n",
       "      <td>1.239090e-04</td>\n",
       "      <td>0.000574</td>\n",
       "      <td>0.000241</td>\n",
       "      <td>0.000597</td>\n",
       "      <td>0.0</td>\n",
       "      <td>0.000185</td>\n",
       "    </tr>\n",
       "    <tr>\n",
       "      <th>2</th>\n",
       "      <td>0.000372</td>\n",
       "      <td>0.000209</td>\n",
       "      <td>0.000505</td>\n",
       "      <td>7.870721e-07</td>\n",
       "      <td>0.000331</td>\n",
       "      <td>0.000154</td>\n",
       "      <td>0.000348</td>\n",
       "      <td>0.0</td>\n",
       "      <td>0.000000</td>\n",
       "    </tr>\n",
       "    <tr>\n",
       "      <th>3</th>\n",
       "      <td>0.000160</td>\n",
       "      <td>0.000000</td>\n",
       "      <td>0.000224</td>\n",
       "      <td>1.018438e-05</td>\n",
       "      <td>0.000208</td>\n",
       "      <td>0.000127</td>\n",
       "      <td>0.000220</td>\n",
       "      <td>0.0</td>\n",
       "      <td>0.000000</td>\n",
       "    </tr>\n",
       "    <tr>\n",
       "      <th>4</th>\n",
       "      <td>0.000248</td>\n",
       "      <td>0.000000</td>\n",
       "      <td>0.001592</td>\n",
       "      <td>2.483024e-04</td>\n",
       "      <td>0.000273</td>\n",
       "      <td>0.000190</td>\n",
       "      <td>0.000280</td>\n",
       "      <td>0.0</td>\n",
       "      <td>0.000000</td>\n",
       "    </tr>\n",
       "    <tr>\n",
       "      <th>5</th>\n",
       "      <td>0.000321</td>\n",
       "      <td>0.000000</td>\n",
       "      <td>0.002236</td>\n",
       "      <td>1.278118e-04</td>\n",
       "      <td>0.000000</td>\n",
       "      <td>0.000283</td>\n",
       "      <td>0.000000</td>\n",
       "      <td>0.0</td>\n",
       "      <td>0.000000</td>\n",
       "    </tr>\n",
       "  </tbody>\n",
       "</table>\n",
       "</div>"
      ],
      "text/plain": [
       "                              S1        S2        S3            S4  \\\n",
       "symbol  year month day                                               \n",
       "SOLUSDT 2023 9     1    0.000680  0.000833  0.000599  1.239090e-04   \n",
       "                   2    0.000372  0.000209  0.000505  7.870721e-07   \n",
       "                   3    0.000160  0.000000  0.000224  1.018438e-05   \n",
       "                   4    0.000248  0.000000  0.001592  2.483024e-04   \n",
       "                   5    0.000321  0.000000  0.002236  1.278118e-04   \n",
       "\n",
       "                        Roll Spread  CS Spread      AGK1  AGK2  AR Spread  \n",
       "symbol  year month day                                                     \n",
       "SOLUSDT 2023 9     1       0.000574   0.000241  0.000597   0.0   0.000185  \n",
       "                   2       0.000331   0.000154  0.000348   0.0   0.000000  \n",
       "                   3       0.000208   0.000127  0.000220   0.0   0.000000  \n",
       "                   4       0.000273   0.000190  0.000280   0.0   0.000000  \n",
       "                   5       0.000000   0.000283  0.000000   0.0   0.000000  "
      ]
     },
     "metadata": {},
     "output_type": "display_data"
    },
    {
     "data": {
      "application/vnd.microsoft.datawrangler.viewer.v0+json": {
       "columns": [
        {
         "name": "index",
         "rawType": "object",
         "type": "string"
        },
        {
         "name": "R²",
         "rawType": "float64",
         "type": "float"
        },
        {
         "name": "RMSE",
         "rawType": "float64",
         "type": "float"
        },
        {
         "name": "MAE",
         "rawType": "float64",
         "type": "float"
        },
        {
         "name": "Score",
         "rawType": "float64",
         "type": "float"
        }
       ],
       "ref": "07127bcf-d05a-4b70-a60d-9d1b6f49df33",
       "rows": [
        [
         "S1",
         "0.11893536502099888",
         "0.0005769888995540499",
         "0.0004682979563975488",
         "1289.5490502363064"
        ],
        [
         "S2",
         "-0.365527742872789",
         "0.0007183131834644498",
         "0.0005402025237870074",
         "1080.980826132946"
        ],
        [
         "S3",
         "-2.4517890287136237",
         "0.0011420515177818006",
         "0.0008662353425200034",
         "675.8620468941294"
        ],
        [
         "S4",
         "-0.7389147011657602",
         "0.0008105927458797194",
         "0.0005789844688001411",
         "986.6960851044215"
        ],
        [
         "Roll Spread",
         "-0.08719894262665107",
         "0.0006409410447956487",
         "0.0004922554519704504",
         "1197.1947556322666"
        ],
        [
         "CS Spread",
         "-0.07337110787768042",
         "0.0006368520100194967",
         "0.0004919284696727773",
         "1200.9886703658888"
        ],
        [
         "AGK1",
         "-0.11953567379515029",
         "0.0006504030088899958",
         "0.0005205390135155568",
         "1152.824773558574"
        ],
        [
         "AGK2",
         "-1.1792610012115676",
         "0.0009074405803338255",
         "0.0006697905565145925",
         "864.608432760635"
        ],
        [
         "AR Spread",
         "-0.7175204201271639",
         "0.0008055908557590346",
         "0.0006045493280242379",
         "964.9107112796601"
        ]
       ],
       "shape": {
        "columns": 4,
        "rows": 9
       }
      },
      "text/html": [
       "<div>\n",
       "<style scoped>\n",
       "    .dataframe tbody tr th:only-of-type {\n",
       "        vertical-align: middle;\n",
       "    }\n",
       "\n",
       "    .dataframe tbody tr th {\n",
       "        vertical-align: top;\n",
       "    }\n",
       "\n",
       "    .dataframe thead th {\n",
       "        text-align: right;\n",
       "    }\n",
       "</style>\n",
       "<table border=\"1\" class=\"dataframe\">\n",
       "  <thead>\n",
       "    <tr style=\"text-align: right;\">\n",
       "      <th></th>\n",
       "      <th>R²</th>\n",
       "      <th>RMSE</th>\n",
       "      <th>MAE</th>\n",
       "      <th>Score</th>\n",
       "    </tr>\n",
       "  </thead>\n",
       "  <tbody>\n",
       "    <tr>\n",
       "      <th>S1</th>\n",
       "      <td>0.118935</td>\n",
       "      <td>0.000577</td>\n",
       "      <td>0.000468</td>\n",
       "      <td>1289.549050</td>\n",
       "    </tr>\n",
       "    <tr>\n",
       "      <th>S2</th>\n",
       "      <td>-0.365528</td>\n",
       "      <td>0.000718</td>\n",
       "      <td>0.000540</td>\n",
       "      <td>1080.980826</td>\n",
       "    </tr>\n",
       "    <tr>\n",
       "      <th>S3</th>\n",
       "      <td>-2.451789</td>\n",
       "      <td>0.001142</td>\n",
       "      <td>0.000866</td>\n",
       "      <td>675.862047</td>\n",
       "    </tr>\n",
       "    <tr>\n",
       "      <th>S4</th>\n",
       "      <td>-0.738915</td>\n",
       "      <td>0.000811</td>\n",
       "      <td>0.000579</td>\n",
       "      <td>986.696085</td>\n",
       "    </tr>\n",
       "    <tr>\n",
       "      <th>Roll Spread</th>\n",
       "      <td>-0.087199</td>\n",
       "      <td>0.000641</td>\n",
       "      <td>0.000492</td>\n",
       "      <td>1197.194756</td>\n",
       "    </tr>\n",
       "    <tr>\n",
       "      <th>CS Spread</th>\n",
       "      <td>-0.073371</td>\n",
       "      <td>0.000637</td>\n",
       "      <td>0.000492</td>\n",
       "      <td>1200.988670</td>\n",
       "    </tr>\n",
       "    <tr>\n",
       "      <th>AGK1</th>\n",
       "      <td>-0.119536</td>\n",
       "      <td>0.000650</td>\n",
       "      <td>0.000521</td>\n",
       "      <td>1152.824774</td>\n",
       "    </tr>\n",
       "    <tr>\n",
       "      <th>AGK2</th>\n",
       "      <td>-1.179261</td>\n",
       "      <td>0.000907</td>\n",
       "      <td>0.000670</td>\n",
       "      <td>864.608433</td>\n",
       "    </tr>\n",
       "    <tr>\n",
       "      <th>AR Spread</th>\n",
       "      <td>-0.717520</td>\n",
       "      <td>0.000806</td>\n",
       "      <td>0.000605</td>\n",
       "      <td>964.910711</td>\n",
       "    </tr>\n",
       "  </tbody>\n",
       "</table>\n",
       "</div>"
      ],
      "text/plain": [
       "                   R²      RMSE       MAE        Score\n",
       "S1           0.118935  0.000577  0.000468  1289.549050\n",
       "S2          -0.365528  0.000718  0.000540  1080.980826\n",
       "S3          -2.451789  0.001142  0.000866   675.862047\n",
       "S4          -0.738915  0.000811  0.000579   986.696085\n",
       "Roll Spread -0.087199  0.000641  0.000492  1197.194756\n",
       "CS Spread   -0.073371  0.000637  0.000492  1200.988670\n",
       "AGK1        -0.119536  0.000650  0.000521  1152.824774\n",
       "AGK2        -1.179261  0.000907  0.000670   864.608433\n",
       "AR Spread   -0.717520  0.000806  0.000605   964.910711"
      ]
     },
     "metadata": {},
     "output_type": "display_data"
    },
    {
     "data": {
      "application/vnd.microsoft.datawrangler.viewer.v0+json": {
       "columns": [
        {
         "name": "index",
         "rawType": "object",
         "type": "string"
        },
        {
         "name": "RMSE",
         "rawType": "float64",
         "type": "float"
        }
       ],
       "ref": "abf4748f-d0aa-4019-a091-43518934a9b9",
       "rows": [
        [
         "S1",
         "0.0005769888995540499"
        ],
        [
         "S2",
         "0.0007183131834644498"
        ],
        [
         "S3",
         "0.0011420515177818006"
        ],
        [
         "S4",
         "0.0008105927458797194"
        ],
        [
         "Roll Spread",
         "0.0006409410447956487"
        ],
        [
         "CS Spread",
         "0.0006368520100194967"
        ],
        [
         "AGK1",
         "0.0006504030088899958"
        ],
        [
         "AGK2",
         "0.0009074405803338255"
        ],
        [
         "AR Spread",
         "0.0008055908557590346"
        ]
       ],
       "shape": {
        "columns": 1,
        "rows": 9
       }
      },
      "text/html": [
       "<div>\n",
       "<style scoped>\n",
       "    .dataframe tbody tr th:only-of-type {\n",
       "        vertical-align: middle;\n",
       "    }\n",
       "\n",
       "    .dataframe tbody tr th {\n",
       "        vertical-align: top;\n",
       "    }\n",
       "\n",
       "    .dataframe thead th {\n",
       "        text-align: right;\n",
       "    }\n",
       "</style>\n",
       "<table border=\"1\" class=\"dataframe\">\n",
       "  <thead>\n",
       "    <tr style=\"text-align: right;\">\n",
       "      <th></th>\n",
       "      <th>RMSE</th>\n",
       "    </tr>\n",
       "  </thead>\n",
       "  <tbody>\n",
       "    <tr>\n",
       "      <th>S1</th>\n",
       "      <td>0.000577</td>\n",
       "    </tr>\n",
       "    <tr>\n",
       "      <th>S2</th>\n",
       "      <td>0.000718</td>\n",
       "    </tr>\n",
       "    <tr>\n",
       "      <th>S3</th>\n",
       "      <td>0.001142</td>\n",
       "    </tr>\n",
       "    <tr>\n",
       "      <th>S4</th>\n",
       "      <td>0.000811</td>\n",
       "    </tr>\n",
       "    <tr>\n",
       "      <th>Roll Spread</th>\n",
       "      <td>0.000641</td>\n",
       "    </tr>\n",
       "    <tr>\n",
       "      <th>CS Spread</th>\n",
       "      <td>0.000637</td>\n",
       "    </tr>\n",
       "    <tr>\n",
       "      <th>AGK1</th>\n",
       "      <td>0.000650</td>\n",
       "    </tr>\n",
       "    <tr>\n",
       "      <th>AGK2</th>\n",
       "      <td>0.000907</td>\n",
       "    </tr>\n",
       "    <tr>\n",
       "      <th>AR Spread</th>\n",
       "      <td>0.000806</td>\n",
       "    </tr>\n",
       "  </tbody>\n",
       "</table>\n",
       "</div>"
      ],
      "text/plain": [
       "                 RMSE\n",
       "S1           0.000577\n",
       "S2           0.000718\n",
       "S3           0.001142\n",
       "S4           0.000811\n",
       "Roll Spread  0.000641\n",
       "CS Spread    0.000637\n",
       "AGK1         0.000650\n",
       "AGK2         0.000907\n",
       "AR Spread    0.000806"
      ]
     },
     "metadata": {},
     "output_type": "display_data"
    }
   ],
   "source": [
    "import sys, os, inspect\n",
    "\n",
    "project_root = os.path.abspath(os.path.join(os.getcwd(), '..'))  # .. = parent de /main\n",
    "if project_root not in sys.path:\n",
    "    sys.path.append(project_root)\n",
    "\n",
    "from utils.paper_estimators_runner import PaperEstimatorsRunner\n",
    "\n",
    "runner = PaperEstimatorsRunner(\n",
    "            symbols  = [\"XRPUSDT\",       \"SOLUSDT\"],\n",
    "            periods  = [(2023, 9),       (2023,10)],\n",
    "            mode     = \"pair\",\n",
    "            light_download = True)\n",
    "\n",
    "# 1) Estimateurs papier\n",
    "df_est = runner.get_estimates()\n",
    "display(df_est.head())\n",
    "\n",
    "# 2) Métriques (toutes)\n",
    "df_perf = runner.evaluate()\n",
    "display(df_perf)\n",
    "\n",
    "# 3) Seulement le RMSE\n",
    "df_rmse = runner.evaluate(y_metric=\"RMSE\")\n",
    "display(df_rmse)\n"
   ]
  }
 ],
 "metadata": {
  "kernelspec": {
   "display_name": "base",
   "language": "python",
   "name": "python3"
  },
  "language_info": {
   "codemirror_mode": {
    "name": "ipython",
    "version": 3
   },
   "file_extension": ".py",
   "mimetype": "text/x-python",
   "name": "python",
   "nbconvert_exporter": "python",
   "pygments_lexer": "ipython3",
   "version": "3.12.3"
  }
 },
 "nbformat": 4,
 "nbformat_minor": 5
}
